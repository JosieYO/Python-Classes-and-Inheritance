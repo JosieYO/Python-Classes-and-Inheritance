{
 "cells": [
  {
   "cell_type": "markdown",
   "metadata": {},
   "source": [
    "#### Question 1"
   ]
  },
  {
   "cell_type": "code",
   "execution_count": 3,
   "metadata": {},
   "outputs": [
    {
     "name": "stdout",
     "output_type": "stream",
     "text": [
      "blue\n"
     ]
    }
   ],
   "source": [
    "#Define a class called Bike that accepts a string and a float as input, and assigns those inputs respectively \n",
    "#to two instance variables, color and price. Assign to the variable testOne an instance of Bike whose \n",
    "#color is blue and whose price is 89.99. Assign to the variable testTwo an instance of Bike whose color is purple \n",
    "#and whose price is 25.0.\n",
    "\n",
    "class Bike():\n",
    "    \n",
    "    def __init__(self,x,y):\n",
    "        self.color=x\n",
    "        self.price=y\n",
    "\n",
    "testOne=Bike('blue',89.99)\n",
    "testTwo=Bike('purple',25.0)\n",
    "    \n",
    "print(testOne.color)   "
   ]
  },
  {
   "cell_type": "markdown",
   "metadata": {},
   "source": [
    "#### Question 2"
   ]
  },
  {
   "cell_type": "code",
   "execution_count": 6,
   "metadata": {},
   "outputs": [],
   "source": [
    "#Create a class called AppleBasket whose constructor accepts two inputs: a string representing a color, and a number \n",
    "#representing a quantity of apples. The constructor should initialize two instance variables: apple_color and \n",
    "#apple_quantity. Write a class method called increase that increases the quantity by 1 each time it is invoked. \n",
    "#You should also write a __str__ method for this class that returns a string of the format: \n",
    "#\"A basket of [quantity goes here] [color goes here] apples.\" e.g. \"A basket of 4 red apples.\" or \n",
    "#\"A basket of 50 blue apples.\"\n",
    "\n",
    "class AppleBasket():\n",
    "    \n",
    "    def __init__(self,x,y):\n",
    "        self.apple_color=x\n",
    "        self.apple_quantity=y\n",
    "        \n",
    "    def increase(self):\n",
    "        self.apple_quantity+=1\n",
    "        \n",
    "    def __str__(self):\n",
    "        return 'A basket of {} {} apples.'.format(self.apple_quantity,self.apple_color)    "
   ]
  },
  {
   "cell_type": "markdown",
   "metadata": {},
   "source": [
    "#### Question 3"
   ]
  },
  {
   "cell_type": "code",
   "execution_count": 9,
   "metadata": {},
   "outputs": [],
   "source": [
    "#Define a class called BankAccount that accepts the name you want associated with your bank account in a string, \n",
    "#and an integer that represents the amount of money in the account. The constructor should initialize two instance \n",
    "#variables from those inputs: name and amt. Add a string method so that when you print an instance of BankAccount, \n",
    "#you see \"Your account, [name goes here], has [start_amt goes here] dollars.\" Create an instance of this class \n",
    "#with \"Bob\" as the name and 100 as the amount. Save this to the variable t1.\n",
    "class BankAccount():\n",
    "    \n",
    "    def __init__(self,x,y):\n",
    "        self.name=x\n",
    "        self.amt=y\n",
    "    \n",
    "    def __str__(self):\n",
    "        return 'Your account, {}, has {} dollars.'.format(self.name,self.amt)\n",
    "\n",
    "t1=BankAccount('Bob',100)\n",
    "    "
   ]
  },
  {
   "cell_type": "code",
   "execution_count": null,
   "metadata": {},
   "outputs": [],
   "source": []
  }
 ],
 "metadata": {
  "kernelspec": {
   "display_name": "Python 3",
   "language": "python",
   "name": "python3"
  },
  "language_info": {
   "codemirror_mode": {
    "name": "ipython",
    "version": 3
   },
   "file_extension": ".py",
   "mimetype": "text/x-python",
   "name": "python",
   "nbconvert_exporter": "python",
   "pygments_lexer": "ipython3",
   "version": "3.7.4"
  }
 },
 "nbformat": 4,
 "nbformat_minor": 2
}
